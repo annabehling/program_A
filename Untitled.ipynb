{
 "cells": [
  {
   "cell_type": "code",
   "execution_count": 2,
   "metadata": {
    "collapsed": false
   },
   "outputs": [],
   "source": [
    "def fasta_file(infile, outfile):\n",
    "\t\"\"\"convert fastq file to fasta file\"\"\"\n",
    "\tfrom Bio import SeqIO\n",
    "\tSeqIO.convert('infile','fastq','output','outfile')"
   ]
  },
  {
   "cell_type": "code",
   "execution_count": 24,
   "metadata": {
    "collapsed": false
   },
   "outputs": [],
   "source": [
    "def vcf_file(infile, outfile, reffile):\n",
    "    \"\"\"produce vcf file listing variable sites\"\"\"\n",
    "    with open (infile) as fastq_file:\n",
    "        outhandle = open(outfile, \"w\")\n",
    "        for i,line in enumerate(fastq_file):\n",
    "            if i % 4 == 1:\n",
    "                outhandle.write(line)\n",
    "                    \n",
    "            \n",
    "                    "
   ]
  },
  {
   "cell_type": "code",
   "execution_count": 5,
   "metadata": {
    "collapsed": false
   },
   "outputs": [
    {
     "data": {
      "text/plain": [
       "'/home/anna/Desktop/program_A'"
      ]
     },
     "execution_count": 5,
     "metadata": {},
     "output_type": "execute_result"
    }
   ],
   "source": [
    "pwd"
   ]
  },
  {
   "cell_type": "code",
   "execution_count": 7,
   "metadata": {
    "collapsed": false
   },
   "outputs": [
    {
     "name": "stdout",
     "output_type": "stream",
     "text": [
      "file_a.py.txt  input.fq  LICENSE  README.md  reference.fna  Untitled.ipynb\r\n"
     ]
    }
   ],
   "source": [
    "ls"
   ]
  },
  {
   "cell_type": "code",
   "execution_count": 25,
   "metadata": {
    "collapsed": false
   },
   "outputs": [
    {
     "name": "stdout",
     "output_type": "stream",
     "text": [
      "(0, 'r')\n",
      "(1, 'e')\n",
      "(2, 'f')\n",
      "(3, 'e')\n",
      "(4, 'r')\n",
      "(5, 'e')\n",
      "(6, 'n')\n",
      "(7, 'c')\n",
      "(8, 'e')\n",
      "(9, '.')\n",
      "(10, 'f')\n",
      "(11, 'n')\n",
      "(12, 'a')\n"
     ]
    }
   ],
   "source": [
    "vcf_file('input.fq', 'test.vcf', 'reference.fna')"
   ]
  },
  {
   "cell_type": "code",
   "execution_count": 17,
   "metadata": {
    "collapsed": false
   },
   "outputs": [
    {
     "name": "stdout",
     "output_type": "stream",
     "text": [
      "TTAGCCGCAAGTCAGCACCTCGCATGGGCGTATGAAGACC\r\n",
      "TTAGCCGCAAGTCAGCACCTCGCATGGGCGTATGAAGACC\r\n",
      "TTAGCCGCAAGTCAGCACCTCGCATGGGCGTATGAAGACC\r\n",
      "TTAGCCGCAAGTCAGCACCTCGCATGGGCGTATGAAGACC\r\n",
      "TTAGCCGCAAGTCAGCACCTCGCATGGGCGTATGAAGACC\r\n",
      "TTAGCCGCAAGTCAGCACCTCGCATGGGCGTATGAAGACC\r\n",
      "TTAGCCGCAAGTCAGCACCTCGCATGGGCGTATGAAGACC\r\n",
      "TTAGCCGCAAGTCAGCACCTCGCATGGGCGTATGAAGACC\r\n",
      "TTAGCCGCAAGTCAGCACCTCGCATGGGCGTATGAAGACC\r\n",
      "TTAGCCGCAAGTCAGCACCTCGCATGGGCGTATGAAGACC\r\n"
     ]
    }
   ],
   "source": [
    "! cat reference.fna"
   ]
  },
  {
   "cell_type": "code",
   "execution_count": 26,
   "metadata": {
    "collapsed": false
   },
   "outputs": [
    {
     "ename": "SyntaxError",
     "evalue": "unexpected EOF while parsing (<ipython-input-26-985fbf5b4a74>, line 2)",
     "output_type": "error",
     "traceback": [
      "\u001b[0;36m  File \u001b[0;32m\"<ipython-input-26-985fbf5b4a74>\"\u001b[0;36m, line \u001b[0;32m2\u001b[0m\n\u001b[0;31m    \u001b[0m\n\u001b[0m    ^\u001b[0m\n\u001b[0;31mSyntaxError\u001b[0m\u001b[0;31m:\u001b[0m unexpected EOF while parsing\n"
     ]
    }
   ],
   "source": [
    "def match_seqs():\n",
    "    "
   ]
  },
  {
   "cell_type": "code",
   "execution_count": 27,
   "metadata": {
    "collapsed": true
   },
   "outputs": [],
   "source": [
    "seq1 = 'TTAGCCGCAAGTCAGCACCTCGCATGGGCGTATGAAGACC'"
   ]
  },
  {
   "cell_type": "code",
   "execution_count": 28,
   "metadata": {
    "collapsed": true
   },
   "outputs": [],
   "source": [
    "seq2 = 'TAAGCCGCAAGTCAGCACCTCGCATGGGCGTATGAAGACC'"
   ]
  },
  {
   "cell_type": "code",
   "execution_count": 33,
   "metadata": {
    "collapsed": false
   },
   "outputs": [
    {
     "name": "stdout",
     "output_type": "stream",
     "text": [
      "2 T A\n"
     ]
    }
   ],
   "source": [
    "for i,base in enumerate(seq1):\n",
    "    if base != seq2[i]:\n",
    "        print(i+1,base,seq2[i])"
   ]
  },
  {
   "cell_type": "code",
   "execution_count": null,
   "metadata": {
    "collapsed": true
   },
   "outputs": [],
   "source": []
  }
 ],
 "metadata": {
  "kernelspec": {
   "display_name": "Python 3",
   "language": "python",
   "name": "python3"
  },
  "language_info": {
   "codemirror_mode": {
    "name": "ipython",
    "version": 3
   },
   "file_extension": ".py",
   "mimetype": "text/x-python",
   "name": "python",
   "nbconvert_exporter": "python",
   "pygments_lexer": "ipython3",
   "version": "3.6.3"
  }
 },
 "nbformat": 4,
 "nbformat_minor": 2
}
