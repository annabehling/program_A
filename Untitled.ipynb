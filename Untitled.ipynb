{
 "cells": [
  {
   "cell_type": "code",
   "execution_count": 2,
   "metadata": {
    "collapsed": false
   },
   "outputs": [],
   "source": [
    "def fasta_file(infile, outfile):\n",
    "\t\"\"\"convert fastq file to fasta file\"\"\"\n",
    "\tfrom Bio import SeqIO\n",
    "\tSeqIO.convert('infile','fastq','output','outfile')"
   ]
  },
  {
   "cell_type": "code",
   "execution_count": 24,
   "metadata": {
    "collapsed": false
   },
   "outputs": [],
   "source": [
    "def vcf_file(infile, outfile, reffile):\n",
    "    \"\"\"produce vcf file listing variable sites\"\"\"\n",
    "    with open (infile) as fastq_file:\n",
    "        outhandle = open(outfile, \"w\")\n",
    "        for i,line in enumerate(fastq_file):\n",
    "            if i % 4 == 1:\n",
    "                outhandle.write(line)\n",
    "                    \n",
    "            \n",
    "                    "
   ]
  },
  {
   "cell_type": "code",
   "execution_count": 5,
   "metadata": {
    "collapsed": false
   },
   "outputs": [
    {
     "data": {
      "text/plain": [
       "'/home/anna/Desktop/program_A'"
      ]
     },
     "execution_count": 5,
     "metadata": {},
     "output_type": "execute_result"
    }
   ],
   "source": [
    "pwd"
   ]
  },
  {
   "cell_type": "code",
   "execution_count": 7,
   "metadata": {
    "collapsed": false
   },
   "outputs": [
    {
     "name": "stdout",
     "output_type": "stream",
     "text": [
      "file_a.py.txt  input.fq  LICENSE  README.md  reference.fna  Untitled.ipynb\r\n"
     ]
    }
   ],
   "source": [
    "ls"
   ]
  },
  {
   "cell_type": "code",
   "execution_count": 25,
   "metadata": {
    "collapsed": false
   },
   "outputs": [
    {
     "name": "stdout",
     "output_type": "stream",
     "text": [
      "(0, 'r')\n",
      "(1, 'e')\n",
      "(2, 'f')\n",
      "(3, 'e')\n",
      "(4, 'r')\n",
      "(5, 'e')\n",
      "(6, 'n')\n",
      "(7, 'c')\n",
      "(8, 'e')\n",
      "(9, '.')\n",
      "(10, 'f')\n",
      "(11, 'n')\n",
      "(12, 'a')\n"
     ]
    }
   ],
   "source": [
    "vcf_file('input.fq', 'test.vcf', 'reference.fna')"
   ]
  },
  {
   "cell_type": "code",
   "execution_count": 17,
   "metadata": {
    "collapsed": false
   },
   "outputs": [
    {
     "name": "stdout",
     "output_type": "stream",
     "text": [
      "TTAGCCGCAAGTCAGCACCTCGCATGGGCGTATGAAGACC\r\n",
      "TTAGCCGCAAGTCAGCACCTCGCATGGGCGTATGAAGACC\r\n",
      "TTAGCCGCAAGTCAGCACCTCGCATGGGCGTATGAAGACC\r\n",
      "TTAGCCGCAAGTCAGCACCTCGCATGGGCGTATGAAGACC\r\n",
      "TTAGCCGCAAGTCAGCACCTCGCATGGGCGTATGAAGACC\r\n",
      "TTAGCCGCAAGTCAGCACCTCGCATGGGCGTATGAAGACC\r\n",
      "TTAGCCGCAAGTCAGCACCTCGCATGGGCGTATGAAGACC\r\n",
      "TTAGCCGCAAGTCAGCACCTCGCATGGGCGTATGAAGACC\r\n",
      "TTAGCCGCAAGTCAGCACCTCGCATGGGCGTATGAAGACC\r\n",
      "TTAGCCGCAAGTCAGCACCTCGCATGGGCGTATGAAGACC\r\n"
     ]
    }
   ],
   "source": [
    "! cat reference.fna"
   ]
  },
  {
   "cell_type": "code",
   "execution_count": 26,
   "metadata": {
    "collapsed": false
   },
   "outputs": [
    {
     "ename": "SyntaxError",
     "evalue": "unexpected EOF while parsing (<ipython-input-26-985fbf5b4a74>, line 2)",
     "output_type": "error",
     "traceback": [
      "\u001b[0;36m  File \u001b[0;32m\"<ipython-input-26-985fbf5b4a74>\"\u001b[0;36m, line \u001b[0;32m2\u001b[0m\n\u001b[0;31m    \u001b[0m\n\u001b[0m    ^\u001b[0m\n\u001b[0;31mSyntaxError\u001b[0m\u001b[0;31m:\u001b[0m unexpected EOF while parsing\n"
     ]
    }
   ],
   "source": [
    "def match_seqs():\n",
    "    "
   ]
  },
  {
   "cell_type": "code",
   "execution_count": 27,
   "metadata": {
    "collapsed": true
   },
   "outputs": [],
   "source": [
    "seq1 = 'TTAGCCGCAAGTCAGCACCTCGCATGGGCGTATGAAGACC'"
   ]
  },
  {
   "cell_type": "code",
   "execution_count": 28,
   "metadata": {
    "collapsed": true
   },
   "outputs": [],
   "source": [
    "seq2 = 'TAAGCCGCAAGTCAGCACCTCGCATGGGCGTATGAAGACC'"
   ]
  },
  {
   "cell_type": "code",
   "execution_count": 33,
   "metadata": {
    "collapsed": false
   },
   "outputs": [
    {
     "name": "stdout",
     "output_type": "stream",
     "text": [
      "2 T A\n"
     ]
    }
   ],
   "source": [
    "for i,base in enumerate(seq1):\n",
    "    if base != seq2[i]:\n",
    "        print(i+1,base,seq2[i])"
   ]
  },
  {
   "cell_type": "code",
   "execution_count": 44,
   "metadata": {
    "collapsed": true
   },
   "outputs": [],
   "source": [
    "def variant_sites(seq1, refseq):\n",
    "    \"\"\"takes 2 sequences and returns the position of the variant site and the nucleotide variants\n",
    "    seq1 : fastq sequence (str)\n",
    "    refseq : reference sequence (str)\n",
    "    \"\"\"\n",
    "    var_sites = []\n",
    "    for index,base in enumerate(seq1):\n",
    "        if base != refseq[index]:\n",
    "            var_sites.append( (i+1,base,refseq[index]) )\n",
    "    return(var_sites)"
   ]
  },
  {
   "cell_type": "code",
   "execution_count": 45,
   "metadata": {
    "collapsed": false
   },
   "outputs": [
    {
     "data": {
      "text/plain": [
       "[(2, 'T', 'A')]"
      ]
     },
     "execution_count": 45,
     "metadata": {},
     "output_type": "execute_result"
    }
   ],
   "source": [
    "variant_sites(seq1, seq2)"
   ]
  },
  {
   "cell_type": "code",
   "execution_count": 46,
   "metadata": {
    "collapsed": false
   },
   "outputs": [],
   "source": [
    "var_sites = variant_sites(seq1, seq2)"
   ]
  },
  {
   "cell_type": "code",
   "execution_count": 81,
   "metadata": {
    "collapsed": false
   },
   "outputs": [],
   "source": [
    "def vars_to_vcf(var_sites, chromosome, outfile):\n",
    "    \"\"\"takes a list of tuples and returns .vcf file with tab separated values of CHR, POS, REF, ALT, ID, FILTER, INFO\n",
    "    var_sites : list of tuples\n",
    "    chromosome : str\n",
    "    the columns ID, FILTER, INFO have been hardcoded\"\"\"\n",
    "    outhandle = open(outfile, 'w')\n",
    "    for POS, REF, ALT in var_sites:\n",
    "        outhandle.write('{}\\t{}\\t{}\\t{}\\t.\\t.\\t.'.format(chromosome, POS, REF, ALT))"
   ]
  },
  {
   "cell_type": "code",
   "execution_count": 76,
   "metadata": {
    "collapsed": true
   },
   "outputs": [],
   "source": [
    "def vars_to_vcf(var_sites, reffile):\n",
    "    \"\"\"takes a list of tuples and returns .vcf file with tab separated values of CHR, POS, REF, ALT, ID, FILTER, INFO\n",
    "    var_sites : list of tuples\n",
    "    reffile : reference file\n",
    "    outfile : .vcf file\n",
    "    the columns ID, FILTER, INFO have been hardcoded\"\"\"\n",
    "    with open(reffile) as r:\n",
    "        print(r.readline())"
   ]
  },
  {
   "cell_type": "code",
   "execution_count": 82,
   "metadata": {
    "collapsed": false
   },
   "outputs": [],
   "source": [
    "vars_to_vcf(var_sites, 'XXX', 'test.vcf')"
   ]
  },
  {
   "cell_type": "code",
   "execution_count": 83,
   "metadata": {
    "collapsed": false
   },
   "outputs": [
    {
     "name": "stdout",
     "output_type": "stream",
     "text": [
      "XXX\t2\tT\tA\t.\t.\t."
     ]
    }
   ],
   "source": [
    "! cat test.vcf"
   ]
  },
  {
   "cell_type": "code",
   "execution_count": 84,
   "metadata": {
    "collapsed": true
   },
   "outputs": [],
   "source": [
    "def fasta_file(infile, outfile):\n",
    "\t\"\"\"convert fastq file to fasta file\"\"\"\n",
    "\tfrom Bio import SeqIO\n",
    "\tSeqIO.convert('infile','fastq','output','outfile')"
   ]
  },
  {
   "cell_type": "code",
   "execution_count": 85,
   "metadata": {
    "collapsed": true
   },
   "outputs": [],
   "source": [
    "def fastq_sequence(infile, outfile):\n",
    "    \"\"\"takes a fastq file and writes all sequences to a new file\n",
    "    infile : .fq file\n",
    "    outfile : new file containing output sequences\"\"\"\n",
    "    with open (infile) as fastq_file:\n",
    "        outhandle = open(outfile, \"w\")\n",
    "        for i,line in enumerate(fastq_file):\n",
    "            if i % 4 == 1:\n",
    "                outhandle.write(line)"
   ]
  },
  {
   "cell_type": "code",
   "execution_count": 88,
   "metadata": {
    "collapsed": true
   },
   "outputs": [],
   "source": [
    "def variant_sites(fq_seqs, refseq): #to get sites that are variant\n",
    "    \"\"\"takes 2 sequences and returns the position of the variant site and the nucleotide variants\n",
    "    fq_seqs : fastq sequences (iterable)\n",
    "    refseq : reference sequence (str)\n",
    "    \"\"\"\n",
    "    var_sites = []\n",
    "    var_indices = [] #keep track of sites that we've already found\n",
    "    for rec in fq_seqs:\n",
    "        for index,base in enumerate(seq1):\n",
    "            if base != refseq[index]:\n",
    "                if index not in var_indices:\n",
    "                    var_sites.append( (i+1,base,refseq[index]) )\n",
    "                    var_indices.append(index)\n",
    "    return(var_sites)"
   ]
  },
  {
   "cell_type": "code",
   "execution_count": 87,
   "metadata": {
    "collapsed": true
   },
   "outputs": [],
   "source": [
    "def vars_to_vcf(var_sites, chromosome, outfile): #to write the information to an outfile and get chromosome\n",
    "    \"\"\"takes a list of tuples and returns .vcf file with tab separated values of CHR, POS, REF, ALT, ID, FILTER, INFO\n",
    "    var_sites : list of tuples\n",
    "    chromosome : str\n",
    "    the columns ID, FILTER, INFO have been hardcoded\"\"\"\n",
    "    outhandle = open(outfile, 'w')\n",
    "    for POS, REF, ALT in var_sites:\n",
    "        outhandle.write('{}\\t{}\\t{}\\t{}\\t.\\t.\\t.'.format(chromosome, POS, REF, ALT))"
   ]
  },
  {
   "cell_type": "code",
   "execution_count": 89,
   "metadata": {
    "collapsed": false
   },
   "outputs": [
    {
     "ename": "NameError",
     "evalue": "name 'sys' is not defined",
     "output_type": "error",
     "traceback": [
      "\u001b[0;31m---------------------------------------------------------------------------\u001b[0m",
      "\u001b[0;31mNameError\u001b[0m                                 Traceback (most recent call last)",
      "\u001b[0;32m<ipython-input-89-81bf9ce2953c>\u001b[0m in \u001b[0;36m<module>\u001b[0;34m()\u001b[0m\n\u001b[1;32m      9\u001b[0m \u001b[0;32mif\u001b[0m \u001b[0m__name__\u001b[0m \u001b[0;34m==\u001b[0m \u001b[0;34m'__main__'\u001b[0m\u001b[0;34m:\u001b[0m\u001b[0;34m\u001b[0m\u001b[0m\n\u001b[1;32m     10\u001b[0m     \u001b[0;32mtry\u001b[0m\u001b[0;34m:\u001b[0m\u001b[0;34m\u001b[0m\u001b[0m\n\u001b[0;32m---> 11\u001b[0;31m         \u001b[0mfastq_file\u001b[0m \u001b[0;34m=\u001b[0m \u001b[0msys\u001b[0m\u001b[0;34m.\u001b[0m\u001b[0margv\u001b[0m\u001b[0;34m[\u001b[0m\u001b[0;36m1\u001b[0m\u001b[0;34m]\u001b[0m\u001b[0;34m\u001b[0m\u001b[0m\n\u001b[0m\u001b[1;32m     12\u001b[0m         \u001b[0moutfile\u001b[0m \u001b[0;34m=\u001b[0m \u001b[0msys\u001b[0m\u001b[0;34m.\u001b[0m\u001b[0margv\u001b[0m\u001b[0;34m[\u001b[0m\u001b[0;36m2\u001b[0m\u001b[0;34m]\u001b[0m\u001b[0;34m\u001b[0m\u001b[0m\n\u001b[1;32m     13\u001b[0m         \u001b[0mreffile\u001b[0m \u001b[0;34m=\u001b[0m \u001b[0msys\u001b[0m\u001b[0;34m.\u001b[0m\u001b[0margv\u001b[0m\u001b[0;34m[\u001b[0m\u001b[0;36m3\u001b[0m\u001b[0;34m]\u001b[0m\u001b[0;34m\u001b[0m\u001b[0m\n",
      "\u001b[0;31mNameError\u001b[0m: name 'sys' is not defined"
     ]
    }
   ],
   "source": [
    "def vcf_file(fastq_file, outfile, reffile):\n",
    "    \"\"\"does overall stuff\"\"\"\n",
    "    seqIO.parse(reffile) #seqIO.parse to get ref seq\n",
    "    seqIO.parse(fastq_file) #seqIO.parse to get fastq files\n",
    "    #thing for outfile from end of january program\n",
    "    #make executable using chmod u+x \n",
    "    #./ in readme\n",
    "    \n",
    "if __name__ == '__main__':\n",
    "    try:\n",
    "        fastq_file = sys.argv[1]\n",
    "        outfile = sys.argv[2]\n",
    "        reffile = sys.argv[3]\n",
    "        print('i got executed')\n",
    "    except IndexError:\n",
    "        print(\"Usage: ./program_A.py [fastq_file] [outfile] [reffile]\")\n",
    "        sys.exit(1)\n",
    "    vcf_file(fastq_file, outfile, reffile)\n",
    "sys.exit(0)\n",
    "    "
   ]
  },
  {
   "cell_type": "code",
   "execution_count": 90,
   "metadata": {
    "collapsed": false
   },
   "outputs": [
    {
     "name": "stdout",
     "output_type": "stream",
     "text": [
      "file_a.py.txt  LICENSE    reference.fna  Untitled.ipynb\r\n",
      "input.fq       README.md  test.vcf\r\n"
     ]
    }
   ],
   "source": [
    "ls"
   ]
  },
  {
   "cell_type": "code",
   "execution_count": 91,
   "metadata": {
    "collapsed": true
   },
   "outputs": [],
   "source": [
    "reffile = 'reference.fna'"
   ]
  },
  {
   "cell_type": "code",
   "execution_count": 92,
   "metadata": {
    "collapsed": true
   },
   "outputs": [],
   "source": [
    "fastq_file = 'input.fq'"
   ]
  },
  {
   "cell_type": "code",
   "execution_count": 101,
   "metadata": {
    "collapsed": false
   },
   "outputs": [],
   "source": [
    "from Bio import SeqIO\n",
    "chromosome = SeqIO.read(reffile,format='fasta') #seqIO.parse to get ref seq\n",
    "fq = SeqIO.parse(fastq_file,format='fastq')"
   ]
  },
  {
   "cell_type": "code",
   "execution_count": 105,
   "metadata": {
    "collapsed": false
   },
   "outputs": [
    {
     "data": {
      "text/plain": [
       "('reference',\n",
       " Seq('TTAGGCGCAAGTCAGCACCGCGCATGGGCGTATGGAGACC', SingleLetterAlphabet()))"
      ]
     },
     "execution_count": 105,
     "metadata": {},
     "output_type": "execute_result"
    }
   ],
   "source": [
    "chromosome.id,chromosome.seq"
   ]
  },
  {
   "cell_type": "code",
   "execution_count": 104,
   "metadata": {
    "collapsed": false
   },
   "outputs": [
    {
     "name": "stdout",
     "output_type": "stream",
     "text": [
      ">reference\r\n",
      "TTAGGCGCAAGTCAGCACCGCGCATGGGCGTATGGAGACC\r\n"
     ]
    }
   ],
   "source": [
    "! cat reference.fna"
   ]
  },
  {
   "cell_type": "code",
   "execution_count": null,
   "metadata": {
    "collapsed": true
   },
   "outputs": [],
   "source": []
  }
 ],
 "metadata": {
  "kernelspec": {
   "display_name": "Python 3",
   "language": "python",
   "name": "python3"
  },
  "language_info": {
   "codemirror_mode": {
    "name": "ipython",
    "version": 3
   },
   "file_extension": ".py",
   "mimetype": "text/x-python",
   "name": "python",
   "nbconvert_exporter": "python",
   "pygments_lexer": "ipython3",
   "version": "3.6.3"
  }
 },
 "nbformat": 4,
 "nbformat_minor": 2
}
